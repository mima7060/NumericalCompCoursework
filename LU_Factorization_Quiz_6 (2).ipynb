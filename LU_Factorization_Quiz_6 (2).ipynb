{
 "cells": [
  {
   "cell_type": "markdown",
   "metadata": {},
   "source": [
    "## LU Factorization\n"
   ]
  },
  {
   "cell_type": "markdown",
   "metadata": {},
   "source": [
    "We will skip matrix inverses and determinants as you have covered these topics in a previous course. These questions however will appear in Homework Assignment 8. We dive head long now into factorizations, specifically, LU Factorization. \n",
    "\n",
    "Given two matrices, $A$ and $B$, of compatible shapes, we are able to define the product matrix $C=AB$ in a useful way.  In this section we discuss the factorization of a matrix.  One might naturally ask if it is possible to start with matrix $C$ and determine the two matrix factors $A$ and $B$.  As it turns out, a useful course of action is to look for matrix factors that have a particular structure.\n",
    "\n",
    "One such factorization, that is closely related to the elimination process, is known as the LU Factorization.  Given a matrix $A$, we will look for matrices $L$ and $U$ such that \n",
    "\n",
    "- $LU = A$\n",
    "- $L$ is a lower triangular matrix with main diagonal entries equal to 1.\n",
    "- $U$ is an upper triangular matrix.\n",
    "\n",
    "Here is a visualization of what we are seeking.\n",
    "\n",
    "\n",
    "$$\n",
    "\\begin{align*}\n",
    "A = \\left[ \\begin{array}{cccc} * & * & * & * \\\\ * & * & * & * \\\\ * & * & * & * \\\\ * & * & * & *  \\end{array}\\right]\\hspace{1cm}\n",
    "L = \\left[ \\begin{array}{cccc} 1 & 0 & 0 & 0 \\\\ * & 1 & 0 & 0 \\\\ * & * & 1 & 0 \\\\ * & * & * & 1 \\end{array}\\right]\\hspace{1cm}\n",
    "U = \\left[ \\begin{array}{cccc} * & * & * & * \\\\ 0 & * & * & * \\\\ 0 & 0 & * & * \\\\ 0 & 0 & 0 & *  \\end{array}\\right]\\hspace{1cm}\n",
    "\\end{align*}\n",
    "$$\n",
    "\n",
    "Before we tackle the problem of calculating $L$ and $U$ from a known matrix $A$, let's see why such a factorization is useful.  Suppose that we have found $L$ and $U$ so that $A=LU$ and we wish to solve the system $AX=B$.  Another way to write the problem is $LUX=B$.  We can then define another unknown $Y$ by saying that $UX=Y$, and exchange the a single system $AX=B$ for following two systems.\n",
    "\n",
    "$$\n",
    "\\begin{align*}\n",
    "UX & = & Y\\\\\n",
    "LY & = & B \n",
    "\\end{align*}\n",
    "$$\n",
    "\n",
    "While it is true that we have in fact doubled the number of equations, the two systems that we have are triangular and can be solved easily with back (or forward) substitution.  The first example shows the details for specific system."
   ]
  },
  {
   "cell_type": "markdown",
   "metadata": {},
   "source": [
    "### Example 1:  Soving a system using LU factorization\n",
    "\n",
    "We want to solve the system of equations.\n",
    "\n",
    "$$\n",
    "\\left[ \\begin{array}{ccc} 3 & -1 & -2 \\\\ 6 & -1 & 0  \\\\ -3 & 5 & 20  \\end{array}\\right]X = \n",
    "\\left[ \\begin{array}{c} -4 \\\\ -8 \\\\ 6  \\end{array}\\right]\\hspace{1cm}\n",
    "$$\n",
    "\n",
    "where $X$ is an unknown $3\\times 1$ vector.  Suppose we also have computed $L$ and $U$.\n",
    "\n",
    "$$\n",
    "L = \\left[ \\begin{array}{ccc} 1 & 0 & 0 \\\\ 2 & 1 & 0  \\\\ -1 & 4 & 1  \\end{array}\\right] \\hspace{2cm} \n",
    "U = \\left[ \\begin{array}{ccc} 3 & -1 & -2 \\\\ 0 & 1 & 4  \\\\ 0 & 0 & 2  \\end{array}\\right] \n",
    "$$\n"
   ]
  },
  {
   "cell_type": "code",
   "execution_count": 95,
   "metadata": {},
   "outputs": [],
   "source": [
    "import numpy as np\n",
    "import laguide as lag\n",
    "import scipy.linalg as sla\n",
    "\n",
    "## Use Python to check for yourself that LU = A."
   ]
  },
  {
   "cell_type": "markdown",
   "metadata": {},
   "source": [
    "Now let's write out the systems $UX=Y$ and $LY = B$.  For the sake of clarity, we leave the matrix notation aside for a moment and use the variables $x_1$, $x_2$, and $x_3$ for the entries of $X$ and the variables $y_1$, $y_2$, and $y_3$ for the entries of $Y$.\n",
    "\n",
    "\n",
    "$$\n",
    "\\begin{align*}\n",
    "x_1 \\hspace{2.1cm}& = & y_1\\\\\n",
    "2x_1 + x_2 \\hspace{1.1cm}& = & y_2\\\\\n",
    "-x_1 + 4x_2 +x_3 & = & y_3 \\\\\n",
    "\\\\\n",
    "3y_1 - y_2 - 2y_3 & = & -4\\\\\n",
    "y_2 + 4y_3 & = & -8\\\\\n",
    "2y_3 & = & 6 \n",
    "\\end{align*}\n",
    "$$\n",
    "\n",
    "Now the solution is a matter of substitution.  The last equation tells us $y_3$.  From there we work backwards to find $y_2$ and $y_1$.  Then we go the first three equations to determine the $x$ values in a similar way, starting this time with the very first equation and working our way down."
   ]
  },
  {
   "cell_type": "markdown",
   "metadata": {},
   "source": [
    "### Elementary matrices\n",
    "\n",
    "In order to understand how we can construct the LU factorization through elimination, it helpful to see that the steps of elimination can be carried out by multiplication with special matrices called **elementary matrices**.  Elementary matrices are the result of applying either a $\\texttt{RowScale}$ or $\\texttt{RowAdd}$ operation to the identity matrix of compatible shape.  (*Remember that rearranging the rows is only necessary if a 0 arises in a pivot position.  We will address row swaps shortly.*) \n",
    "\n",
    "For an example, let's apply one of these operations to a $4\\times 4$ identity matrix."
   ]
  },
  {
   "cell_type": "code",
   "execution_count": 37,
   "metadata": {},
   "outputs": [
    {
     "name": "stdout",
     "output_type": "stream",
     "text": [
      "[[1. 0. 0. 0.]\n",
      " [0. 1. 0. 0.]\n",
      " [0. 0. 1. 0.]\n",
      " [0. 0. 0. 1.]] \n",
      "\n",
      "[[ 1.  0.  0.  0.]\n",
      " [ 0.  1.  0.  0.]\n",
      " [ 0. -3.  1.  0.]\n",
      " [ 0.  0.  0.  1.]]\n"
     ]
    }
   ],
   "source": [
    "I = np.eye(4)\n",
    "E = lag.RowAdd(I,1,2,-3)\n",
    "print(I,'\\n')\n",
    "print(E)"
   ]
  },
  {
   "cell_type": "markdown",
   "metadata": {},
   "source": [
    "The $E$ that we get is the result of adding -3 times the first row of $I$ to the third row of $I$.  The interesting property of the elementary matrix $E$ is that if we multiply another matrix $A$ by $E$, the result will be a the matrix we would get by applying the same row operation to $A$."
   ]
  },
  {
   "cell_type": "code",
   "execution_count": 38,
   "metadata": {},
   "outputs": [
    {
     "name": "stdout",
     "output_type": "stream",
     "text": [
      "[[ 1  2  0 -1]\n",
      " [-1  1 -1  4]\n",
      " [ 2 13 -4  9]\n",
      " [-2  5 -3 13]] \n",
      "\n",
      "[[ 1.  2.  0. -1.]\n",
      " [-1.  1. -1.  4.]\n",
      " [ 5. 10. -1. -3.]\n",
      " [-2.  5. -3. 13.]]\n"
     ]
    }
   ],
   "source": [
    "A=np.array([[1,2,0,-1],[-1,1,-1,4],[2,13,-4,9],[-2,5,-3,13]])\n",
    "print(A,'\\n')\n",
    "print(E@A)"
   ]
  },
  {
   "cell_type": "markdown",
   "metadata": {},
   "source": [
    "### Example 2:  Finding an LU factorization\n",
    "\n",
    "We can now carry out the elimination by applying a sequence of elementary matrices $E_1$, $E_2$, $E_3$,...to $A$.  Let's see how it works for the matrix above."
   ]
  },
  {
   "cell_type": "code",
   "execution_count": 66,
   "metadata": {},
   "outputs": [
    {
     "name": "stdout",
     "output_type": "stream",
     "text": [
      "[[1. 0. 0. 0.]\n",
      " [1. 1. 0. 0.]\n",
      " [0. 0. 1. 0.]\n",
      " [0. 0. 0. 1.]]\n",
      "[[ 1.  0.  0.  0.]\n",
      " [ 0.  1.  0.  0.]\n",
      " [-2.  0.  1.  0.]\n",
      " [ 0.  0.  0.  1.]]\n",
      "[[ 1.  2.  0. -1.]\n",
      " [ 0.  3. -1.  3.]\n",
      " [ 0.  0. -1.  2.]\n",
      " [ 0.  0.  0.  2.]]\n"
     ]
    }
   ],
   "source": [
    "# IN CLASS CODE HERE \n",
    "A = np.array([[1,2,0,-1],[-1,1,-1,4],[2,13,-4,9],[-2,5,-3,13]])\n",
    "I = np.eye(4)\n",
    "\n",
    "E1 = lag.RowAdd(I,0,1,1)\n",
    "E2 = lag.RowAdd(I,0,-2,-2)\n",
    "E3 = lag.RowAdd(I,0,3,2)\n",
    "\n",
    "#print(E3@E2@E1@A, '\\n')\n",
    "\n",
    "E4 = lag.RowAdd(I,1,2,-3)\n",
    "E5 = lag.RowAdd(I,1,3,-3)\n",
    "print(E1)\n",
    "print(E2)\n",
    "\n",
    "print(E5@E4@E3@E2@E1@A)"
   ]
  },
  {
   "cell_type": "markdown",
   "metadata": {},
   "source": [
    "After using $\\texttt{RowAdd}$ to create zeros in the appropriate spaces, we now have the $U$ factor.  Writing out the matrix multiplication in symbols it looks like this.\n",
    "\n",
    "$$\n",
    "\\begin{align*}\n",
    "E_5E_4E_3E_2E_1A = U\n",
    "\\end{align*}\n",
    "$$\n",
    "\n",
    "Note that the order of the multiplications cannot be changed.  $E_1$ should be the first to multiply $A$, then $E_2$, and so on.  Now let us manipulate the symbols a bit based on the properties of inverse matrices.\n",
    "\n",
    "$$\n",
    "\\begin{align*}\n",
    "A &=& (E_5E_4E_3E_2E_1)^{-1}U  \\\\\n",
    "A &=& E_1^{-1}E_2^{-1}E_3^{-1}E_4^{-1}E_5^{-1}U  \n",
    "\\end{align*}\n",
    "$$\n",
    "\n",
    "It must be that $L = E_1^{-1}E_2^{-1}E_3^{-1}E_4^{-1}E_5^{-1}$.  The fact that this product of inverse elementary matrices has the correct form to be $L$ is not at all clear.  Let's make the following two observations.\n",
    "\n",
    "- Each of the inverse elementary matrices has a simple lower triangular structure.  In fact, the matrix $E_3^{-1}$ is also an elementary matrix.  It is the elementary matrix that undoes the row operation represented by $E_3$!  Multiplication by $E_3$ adds 2 times the first row to the last row.  Multiplication by $E_3^{-1}$ adds -2 times the first row to the last row."
   ]
  },
  {
   "cell_type": "code",
   "execution_count": 40,
   "metadata": {},
   "outputs": [
    {
     "name": "stdout",
     "output_type": "stream",
     "text": [
      "E3: \n",
      " [[1. 0. 0. 0.]\n",
      " [0. 1. 0. 0.]\n",
      " [0. 0. 1. 0.]\n",
      " [2. 0. 0. 1.]]\n",
      "E3 inverse: \n",
      " [[ 1.  0. -0.  0.]\n",
      " [ 0.  1. -0.  0.]\n",
      " [ 0.  0.  1.  0.]\n",
      " [-2.  0.  0.  1.]]\n"
     ]
    }
   ],
   "source": [
    "# IN CLASS CODE HERE \n",
    "print(f'E3: \\n {E3}')\n",
    "print(f'E3 inverse: \\n {sla.inv(E3)}')"
   ]
  },
  {
   "cell_type": "markdown",
   "metadata": {},
   "source": [
    "- Multiplying two lower triangular matrices together produces a lower triangular matrix.  Look at any example and try to figure out why."
   ]
  },
  {
   "cell_type": "code",
   "execution_count": 41,
   "metadata": {},
   "outputs": [
    {
     "name": "stdout",
     "output_type": "stream",
     "text": [
      "[[ 1  0  0  0]\n",
      " [-1  1  0  0]\n",
      " [ 2  3  1  0]\n",
      " [-2  3  0  1]] \n",
      "\n",
      "[[ 1  0  0  0]\n",
      " [ 2  1  0  0]\n",
      " [-5  4  1  0]\n",
      " [ 4  5  1  1]] \n",
      "\n",
      "[[1 0 0 0]\n",
      " [1 1 0 0]\n",
      " [3 7 1 0]\n",
      " [8 8 1 1]]\n"
     ]
    }
   ],
   "source": [
    "# IN CLASS CODE HERE \n",
    "L1 = np.array([[1,0,0,0],[-1,1,0,0],[2,3,1,0],[-2,3,0,1]])\n",
    "L2 = np.array([[1,0,0,0],[2,1,0,0],[-5,4,1,0],[4,5,1,1]])\n",
    "print(L1,'\\n')\n",
    "print(L2,'\\n')\n",
    "print(L1@L2)"
   ]
  },
  {
   "cell_type": "markdown",
   "metadata": {},
   "source": [
    "These two facts together tell us that the matrix $E_1^{-1}E_2^{-1}E_3^{-1}E_4^{-1}E_5^{-1}$ has the correct structure to be the $L$ factor.  What is even more convenient is that when we multiply these inverse elementary matrices together, the nonzero  entries in the lower triangular portions do not change. "
   ]
  },
  {
   "cell_type": "code",
   "execution_count": 42,
   "metadata": {},
   "outputs": [
    {
     "name": "stdout",
     "output_type": "stream",
     "text": [
      "[[ 1. -0.  0.  0.]\n",
      " [ 0.  1.  0.  0.]\n",
      " [ 0. -0.  1.  0.]\n",
      " [ 0.  3.  0.  1.]] \n",
      "\n",
      "[[1. 0. 0. 0.]\n",
      " [0. 1. 0. 0.]\n",
      " [0. 3. 1. 0.]\n",
      " [0. 3. 0. 1.]] \n",
      "\n",
      "[[ 1.  0.  0.  0.]\n",
      " [ 0.  1.  0.  0.]\n",
      " [ 0.  3.  1.  0.]\n",
      " [-2.  3.  0.  1.]] \n",
      "\n"
     ]
    }
   ],
   "source": [
    "# IN CLASS CODE HERE \n",
    "print(sla.inv(E5),'\\n')\n",
    "print(sla.inv(E4)@sla.inv(E5),'\\n')\n",
    "print(sla.inv(E3)@sla.inv(E4)@sla.inv(E5),'\\n')"
   ]
  },
  {
   "cell_type": "markdown",
   "metadata": {},
   "source": [
    "The nonzero lower triangular entries in $E_3^{-1}E_4^{-1}E_5^{-1}$ are the same as the corresponding entries of $E_3^{-1}$, $E_4^{-1}$, and $E_5^{-1}$.  This means that the entries in $L$ are just the scale factors used in our application of $\\texttt{RowAdd}$, multiplied by -1.  Now that we understand how these elementary matrices combine to produce $L$, we don't actually need to construct them.  We can just compute $L$ as we do the row operations by keeping track of the scale factors.  "
   ]
  },
  {
   "cell_type": "code",
   "execution_count": 43,
   "metadata": {},
   "outputs": [
    {
     "name": "stdout",
     "output_type": "stream",
     "text": [
      "L: \n",
      "[[ 1  0  0  0]\n",
      " [-1  1  0  0]\n",
      " [ 2  3  1  0]\n",
      " [-2  3  0  1]]\n",
      "\n",
      "U: \n",
      "[[ 1  2  0 -1]\n",
      " [ 0  3 -1  3]\n",
      " [ 0  0  1 -2]\n",
      " [ 0  0  0  2]]\n",
      "\n",
      "LU: \n",
      "[[ 1  2  0 -1]\n",
      " [-1  1 -1  4]\n",
      " [ 2 13 -2  5]\n",
      " [-2  5 -3 13]]\n",
      "\n"
     ]
    }
   ],
   "source": [
    "# IN CLASS CODE HERE \n",
    "L = np.array([[1,0,0,0],[-1,1,0,0],[2,3,1,0],[-2,3,0,1]])\n",
    "U = np.array([[1,2,0,-1],[0,3,-1,3],[0,0,1,-2],[0,0,0,2]])\n",
    "\n",
    "print(f'L: \\n{L}\\n', sep = '')\n",
    "print(f'U: \\n{U}\\n', sep = '')\n",
    "print(f'LU: \\n{L@U}\\n', sep = '')"
   ]
  },
  {
   "cell_type": "markdown",
   "metadata": {},
   "source": [
    "### Permutation matrices\n",
    "\n",
    "As we have seen in the previous section, it is sometimes necessary to rearrange the rows of a matrix when performing elimination.  This row operation can also be done by multiplying the matrix with an elementary matrix.  Let's build a matrix $P$ that performs an exchange of rows 2 and 3 in a $4\\times 4$ matrix.  Again, we can do this by performing the same row operation on the identity matrix.  "
   ]
  },
  {
   "cell_type": "code",
   "execution_count": 44,
   "metadata": {},
   "outputs": [
    {
     "name": "stdout",
     "output_type": "stream",
     "text": [
      "C:\n",
      "[[ 0 -1 -2  2]\n",
      " [ 4  1  1 -2]\n",
      " [ 4 -1  4 -6]\n",
      " [-5 -1 -1 -5]]\n",
      "\n",
      "I:\n",
      "[[1. 0. 0. 0.]\n",
      " [0. 1. 0. 0.]\n",
      " [0. 0. 1. 0.]\n",
      " [0. 0. 0. 1.]]\n",
      "\n",
      "P:\n",
      "[[1. 0. 0. 0.]\n",
      " [0. 0. 1. 0.]\n",
      " [0. 1. 0. 0.]\n",
      " [0. 0. 0. 1.]]\n",
      "\n",
      "PC:\n",
      "[[ 0. -1. -2.  2.]\n",
      " [ 4. -1.  4. -6.]\n",
      " [ 4.  1.  1. -2.]\n",
      " [-5. -1. -1. -5.]]\n"
     ]
    }
   ],
   "source": [
    "# IN CLASS CODE HERE \n",
    "C = np.random.randint(-6,6, size = (4,4))\n",
    "I = np.eye(4)\n",
    "P = lag.RowSwap(I,1,2)\n",
    "\n",
    "print(f'C:\\n{C}\\n')\n",
    "print(f'I:\\n{I}\\n')\n",
    "print(f'P:\\n{P}\\n')\n",
    "print(f'PC:\\n{P@C}')"
   ]
  },
  {
   "cell_type": "markdown",
   "metadata": {},
   "source": [
    "When the row operation is a row swap, it is common to refer to the corresponding elementary matrix as a **permutation matrix**, and use the letter $P$ to represent it.  We will follow this convention.  It is also useful to note that an elementary permutation matrix is its own inverse since the operation of swapping two rows can be reversed by performing the exact same operation.  We can check that $PP=I$, which means that $P=P^{-1}$."
   ]
  },
  {
   "cell_type": "code",
   "execution_count": 45,
   "metadata": {},
   "outputs": [
    {
     "name": "stdout",
     "output_type": "stream",
     "text": [
      "PP:\n",
      "[[1. 0. 0. 0.]\n",
      " [0. 1. 0. 0.]\n",
      " [0. 0. 1. 0.]\n",
      " [0. 0. 0. 1.]]\n",
      "\n",
      "CC:\n",
      "[[-22  -1 -11   4]\n",
      " [ 18  -2  -1  10]\n",
      " [ 42  -3  13  16]\n",
      " [ 17  10  10  23]]\n",
      "\n"
     ]
    }
   ],
   "source": [
    "# IN CLASS CODE HERE \n",
    "print(f'PP:\\n{P@P}\\n')\n",
    "print(f'CC:\\n{C@C}\\n')"
   ]
  },
  {
   "cell_type": "markdown",
   "metadata": {},
   "source": [
    "Note that if a permutation represents more than a single row exchange, then its inverse must represent those row exhanges applied in the reverse order."
   ]
  },
  {
   "cell_type": "markdown",
   "metadata": {},
   "source": [
    "### Example 3:  Factoring with row swaps\n",
    "\n",
    "In order to understand how the row swaps are incorporated into the factorization, it is most helpful to see an example.  In this $4\\times 4$ example, we will use our $\\texttt{laguide}$ functions to carry out the elimination and build the corresponding elementary matrices along the way.  For the $\\texttt{RowAdd}$ operations, we will label the elementary matrix with an $L$, and for the $\\texttt{RowSwap}$ operations we will use the label $P$."
   ]
  },
  {
   "cell_type": "code",
   "execution_count": 46,
   "metadata": {},
   "outputs": [
    {
     "name": "stdout",
     "output_type": "stream",
     "text": [
      "B:\n",
      "[[ 1  2 -1 -1]\n",
      " [ 4  8 -4  2]\n",
      " [ 1  1  1  2]\n",
      " [ 3  3  4  4]]\n",
      "\n"
     ]
    }
   ],
   "source": [
    "# IN CLASS CODE HERE \n",
    "B = np.array([[1,2,-1,-1],[4,8,-4,2],[1,1,1,2],[3,3,4,4]])\n",
    "print(f'B:\\n{B}\\n')"
   ]
  },
  {
   "cell_type": "code",
   "execution_count": 47,
   "metadata": {},
   "outputs": [
    {
     "name": "stdout",
     "output_type": "stream",
     "text": [
      "[[ 1.  2. -1. -1.]\n",
      " [ 0.  0.  0.  6.]\n",
      " [ 0. -1.  2.  3.]\n",
      " [ 0. -3.  7.  7.]]\n"
     ]
    }
   ],
   "source": [
    "# IN CLASS CODE HERE \n",
    "B = lag.RowAdd(B,0,1,-4)\n",
    "L1 = lag.RowAdd(I,0,1,-4)\n",
    "\n",
    "B = lag.RowAdd(B,0,2,-1)\n",
    "L2 = lag.RowAdd(I,0,2,-1)\n",
    "\n",
    "B = lag.RowAdd(B,0,3,-3)\n",
    "L3 = lag.RowAdd(I,0,1,-4)\n",
    "\n",
    "print(B)"
   ]
  },
  {
   "cell_type": "code",
   "execution_count": 48,
   "metadata": {},
   "outputs": [
    {
     "name": "stdout",
     "output_type": "stream",
     "text": [
      "[[ 1.  2. -1. -1.]\n",
      " [ 0. -1.  2.  3.]\n",
      " [ 0.  0.  0.  6.]\n",
      " [ 0. -3.  7.  7.]]\n"
     ]
    }
   ],
   "source": [
    "# IN CLASS CODE HERE \n",
    "\n",
    "B = lag.RowSwap(B,1,2)\n",
    "P1 = lag.RowSwap(I,1,2)\n",
    "print(B)"
   ]
  },
  {
   "cell_type": "code",
   "execution_count": 49,
   "metadata": {},
   "outputs": [
    {
     "name": "stdout",
     "output_type": "stream",
     "text": [
      "[[ 1.  2. -1. -1.]\n",
      " [ 0. -1.  2.  3.]\n",
      " [ 0.  0.  0.  6.]\n",
      " [ 0.  0.  1. -2.]]\n"
     ]
    }
   ],
   "source": [
    "# IN CLASS CODE HERE \n",
    "B = lag.RowAdd(B,1,3,-3)\n",
    "L4 = lag.RowAdd(B,0,1,-4)\n",
    "\n",
    "print(B)"
   ]
  },
  {
   "cell_type": "code",
   "execution_count": 50,
   "metadata": {},
   "outputs": [
    {
     "name": "stdout",
     "output_type": "stream",
     "text": [
      "[[ 1.  2. -1. -1.]\n",
      " [-4. -9.  6.  7.]\n",
      " [ 0.  0.  0.  6.]\n",
      " [ 0.  0.  1. -2.]]\n"
     ]
    }
   ],
   "source": [
    "# IN CLASS CODE HERE \n",
    "B = lag.RowAdd(B,0,1,-4)\n",
    "P2 = lag.RowSwap(I, 2,3)\n",
    "\n",
    "print(B)"
   ]
  },
  {
   "cell_type": "markdown",
   "metadata": {},
   "source": [
    "In terms of matrix multiplication, we have carried out the matrix product $P_2L_4P_1L_3L_2L_1B = U$, as we can check."
   ]
  },
  {
   "cell_type": "code",
   "execution_count": 51,
   "metadata": {},
   "outputs": [
    {
     "name": "stdout",
     "output_type": "stream",
     "text": [
      "[[  2.   5.  -5.  -9.]\n",
      " [ -7. -26.  38.  65.]\n",
      " [-10. -14.  -4.   2.]\n",
      " [ 18.  18.  24.  24.]]\n"
     ]
    }
   ],
   "source": [
    "# IN CLASS CODE HERE \n",
    "B = np.array([[1,2,-1,-1],[4,8,-4,2],[1,1,1,2],[3,3,4,4]])\n",
    "U = P2@L4@P1@L3@L2@L1@B\n",
    "\n",
    "print(U)"
   ]
  },
  {
   "cell_type": "markdown",
   "metadata": {},
   "source": [
    "As we see with a calculation in the next cell, the inverse matrix $(P_2L_4P_1L_3L_2L_1)^{-1}$ does not have the correct lower triangular structure to be the $L$ factor.    In fact there are no matrices $L$ and $U$ with the correct triangular structure such that $B=LU$ for this particular matrix $B$."
   ]
  },
  {
   "cell_type": "code",
   "execution_count": 52,
   "metadata": {},
   "outputs": [
    {
     "name": "stdout",
     "output_type": "stream",
     "text": [
      "[[-20.          -5.66666667  12.16666667   6.83333333]\n",
      " [ 16.           4.33333333  -8.83333333  -5.        ]\n",
      " [ -3.          -0.33333333  -0.66666667  -0.16666667]\n",
      " [  6.           1.33333333  -1.83333333  -1.16666667]]\n"
     ]
    }
   ],
   "source": [
    "# IN CLASS CODE HERE \n",
    "possible_L = sla.inv(P2@L4@P1@L3@L2@L1@B)\n",
    "print(possible_L)"
   ]
  },
  {
   "cell_type": "markdown",
   "metadata": {},
   "source": [
    "Although this matrix does not have the correct structure, we might notice that it is only a matter of rearranging the rows to produce a lower triangular matrix.  In fact, the row swaps that are needed here are *exactly the same* as those used in the elimination process.  "
   ]
  },
  {
   "cell_type": "code",
   "execution_count": 53,
   "metadata": {},
   "outputs": [],
   "source": [
    "# IN CLASS CODE HERE "
   ]
  },
  {
   "cell_type": "markdown",
   "metadata": {},
   "source": [
    "Now let's put all of this together to make the factorization of $B$.  Elimination gives us that $B = (P_2L_4P_1L_3L_2L_1)^{-1}U$, but the matrix $(P_2L_4P_1L_3L_2L_1)^{-1}$ is not lower triangular.  We can produce a lower triangular factor by multiplying by the permutation matrices that produce the required row swaps.\n",
    "\n",
    "$$\n",
    "P_2P_1B = P_2P_1(P_2L_4P_1L_3L_2L_1)^{-1}U\n",
    "$$\n",
    "\n",
    "We will label $P_2P_1(P_2L_4P_1L_3L_2L_1)^{-1}$ as $L$, since it now has the correct structure.  The end result is that $B=PLU$ where $P=(P_2P_1)^{-1}$.  To compute the inverse of the permutation matrix, we can simply apply the row swaps in the reverse order, so that $P=P_1P_2$."
   ]
  },
  {
   "cell_type": "code",
   "execution_count": 54,
   "metadata": {},
   "outputs": [
    {
     "name": "stdout",
     "output_type": "stream",
     "text": [
      "P\n",
      "[[1. 0. 0. 0.]\n",
      " [0. 0. 0. 1.]\n",
      " [0. 1. 0. 0.]\n",
      " [0. 0. 1. 0.]]\n",
      "\n",
      "L\n",
      "[[ 1  0  0  0]\n",
      " [-1  1  0  0]\n",
      " [ 2  3  1  0]\n",
      " [-2  3  0  1]]\n",
      "\n",
      "U\n",
      "[[  2.   5.  -5.  -9.]\n",
      " [ -7. -26.  38.  65.]\n",
      " [-10. -14.  -4.   2.]\n",
      " [ 18.  18.  24.  24.]]\n",
      "\n",
      "PLU\n",
      "[[  2.   5.  -5.  -9.]\n",
      " [ -7. -70. 148. 237.]\n",
      " [ -9. -31.  43.  74.]\n",
      " [-27. -82. 100. 179.]]\n"
     ]
    }
   ],
   "source": [
    "P = P1@P2\n",
    "print(\"P\\n\",P,'\\n',sep='')\n",
    "print(\"L\\n\",L,'\\n',sep='')\n",
    "print(\"U\\n\",U,'\\n',sep='')\n",
    "print(\"PLU\\n\",P@L@U,sep='')\n",
    "\n",
    "## Note the optional argument sep='' to print eliminates the space usually included between printed items"
   ]
  },
  {
   "cell_type": "markdown",
   "metadata": {},
   "source": [
    "The important point here is that if row swaps are used during elimination, a permutation matrix will be required in the factorization in order for $L$ to have the desired triangular structure.  Therefore in general we expect that $B=PLU$ where $P$ represents all the row swaps that occur during elimination.  "
   ]
  },
  {
   "cell_type": "markdown",
   "metadata": {},
   "source": [
    "Another way to arrive at this result is to realize that if we performed the required row swaps *before* starting the elimination process, they would not interfere with the structure of $L$.  Let's give it a try!"
   ]
  },
  {
   "cell_type": "code",
   "execution_count": 55,
   "metadata": {},
   "outputs": [
    {
     "name": "stdout",
     "output_type": "stream",
     "text": [
      "[[ 1.  2. -1. -1.]\n",
      " [ 1.  1.  1.  2.]\n",
      " [ 3.  3.  4.  4.]\n",
      " [ 4.  8. -4.  2.]]\n"
     ]
    }
   ],
   "source": [
    "# IN CLASS CODE HERE \n",
    "B = np.array([[1,2,-1,-1],[4,8,-4,2],[1,1,1,2],[3,3,4,4]])\n",
    "B = lag.RowSwap(B,1,2)\n",
    "B = lag.RowSwap(B,2,3)\n",
    "print(B)"
   ]
  },
  {
   "cell_type": "code",
   "execution_count": 56,
   "metadata": {},
   "outputs": [
    {
     "name": "stdout",
     "output_type": "stream",
     "text": [
      "[[ 1.  2. -1. -1.]\n",
      " [ 0. -1.  2.  3.]\n",
      " [ 0. -3.  7.  7.]\n",
      " [ 0.  0.  0.  6.]]\n"
     ]
    }
   ],
   "source": [
    "# IN CLASS CODE HERE \n",
    "B = lag.RowAdd(B, 0,1,-1)\n",
    "L1 = lag.RowAdd(I,0,1,-1)\n",
    "\n",
    "B = lag.RowAdd(B,0,2,-3)\n",
    "L2 = lag.RowAdd(I,0,2,-3)\n",
    "\n",
    "B = lag.RowAdd(B,0,3,-4)\n",
    "L3 = lag.RowAdd(I,0,3,-4)\n",
    "\n",
    "print(B)"
   ]
  },
  {
   "cell_type": "code",
   "execution_count": 57,
   "metadata": {},
   "outputs": [
    {
     "name": "stdout",
     "output_type": "stream",
     "text": [
      "[[ 1.  2. -1. -1.]\n",
      " [ 0. -1.  2.  3.]\n",
      " [ 0.  0.  1. -2.]\n",
      " [ 0.  0.  0.  6.]]\n"
     ]
    }
   ],
   "source": [
    "# IN CLASS CODE HERE \n",
    "B = lag.RowAdd(B,1,2,-3)\n",
    "L4 = lag.RowAdd(I,1,2,-3)\n",
    "print(B)"
   ]
  },
  {
   "cell_type": "markdown",
   "metadata": {},
   "source": [
    "The process has given us $L_4L_3L_2L_1P_2P_1B=U$. Now $(L_4L_3L_2L_1)^{-1}$ has the correct structure, and is the same matrix $L$ that we produced in the previous calculation. "
   ]
  },
  {
   "cell_type": "code",
   "execution_count": 58,
   "metadata": {},
   "outputs": [
    {
     "name": "stdout",
     "output_type": "stream",
     "text": [
      "[[1. 0. 0. 0.]\n",
      " [1. 1. 0. 0.]\n",
      " [3. 3. 1. 0.]\n",
      " [4. 0. 0. 1.]]\n"
     ]
    }
   ],
   "source": [
    "# IN CLASS CODE HERE \n",
    "L = sla.inv(L4@L3@L2@L1)\n",
    "print(L)"
   ]
  },
  {
   "cell_type": "markdown",
   "metadata": {},
   "source": [
    "### PLU factorization with SciPy\n",
    "\n",
    "The SciPy $\\texttt{linalg}$ function for finding $PLU$ factorizations is called $\\texttt{lu}$.  This function accepts the array to be factored as an argument, and returns three arrays representing $P$, $L$, and $U$, in that order.  To store these arrays for later use, we need to provide three names that will be assigned to the output of $\\texttt{lu}$.  "
   ]
  },
  {
   "cell_type": "code",
   "execution_count": 59,
   "metadata": {},
   "outputs": [
    {
     "name": "stdout",
     "output_type": "stream",
     "text": [
      "P\n",
      "[[1. 0. 0. 0.]\n",
      " [0. 0. 0. 1.]\n",
      " [0. 1. 0. 0.]\n",
      " [0. 0. 1. 0.]]\n",
      "\n",
      "L\n",
      "[[1. 0. 0. 0.]\n",
      " [1. 1. 0. 0.]\n",
      " [3. 3. 1. 0.]\n",
      " [4. 0. 0. 1.]]\n",
      "\n",
      "U\n",
      "[[  2.   5.  -5.  -9.]\n",
      " [ -7. -26.  38.  65.]\n",
      " [-10. -14.  -4.   2.]\n",
      " [ 18.  18.  24.  24.]]\n",
      "\n",
      "PLU\n",
      "[[  2.   5.  -5.  -9.]\n",
      " [ 26.  38.   4. -12.]\n",
      " [ -5. -21.  33.  56.]\n",
      " [-25. -77.  95. 170.]]\n"
     ]
    }
   ],
   "source": [
    "# IN CLASS CODE HERE \n",
    "\n",
    "print(\"P\\n\",P,'\\n',sep='')\n",
    "print(\"L\\n\",L,'\\n',sep='')\n",
    "print(\"U\\n\",U,'\\n',sep='')\n",
    "print(\"PLU\\n\",P@L@U,sep='')"
   ]
  },
  {
   "cell_type": "markdown",
   "metadata": {},
   "source": [
    "We can see that the $\\texttt{lu}$ function produced matrices $P$, $L$, and $U$ such that $B=PLU$, but the factors are different than those we found using our own row operations.  Both factorizations are correct as we can see.  It is important to realize that the factorization of $B$ into $PLU$ is not unique since there is a choice to be made in which rows get swapped.  Instead of only requiring that pivot elements are non-zero, the SciPy function chooses row swaps using a more advanced method in order to minimize potential roundoff error.\n",
    "\n",
    "SciPy can also be used to solve a system $AX=B$ by using the $PLU$ factorization of $A$ together with back and forward substitution.  To do this we use $\\texttt{lu_factor}$ to factor and \n",
    "$\\texttt{lu_solve}$ to carry out the substitutions. "
   ]
  },
  {
   "cell_type": "code",
   "execution_count": 60,
   "metadata": {},
   "outputs": [
    {
     "name": "stdout",
     "output_type": "stream",
     "text": [
      "Computed solution X:\n",
      "[[-3.83333333 -2.5        -5.83333333 -8.        ]\n",
      " [ 2.16666667  2.5         1.16666667  3.        ]\n",
      " [ 4.          8.         -5.          4.        ]\n",
      " [-0.5         0.5        -2.5        -1.        ]]\n",
      "\n"
     ]
    }
   ],
   "source": [
    "# IN CLASS CODE HERE \n",
    "\n",
    "## lu_factor returns two objects which store the information needed to reconstruct the factorization\n",
    "## We store it all in a single object called 'factorization', which can then be passed to lu_solve\n",
    "factorization = sla.lu_factor(A)\n",
    "X_computed = sla.lu_solve(factorization,B)\n",
    "\n",
    "print(\"Computed solution X:\\n\",X_computed,'\\n',sep='')\n"
   ]
  },
  {
   "cell_type": "markdown",
   "metadata": {},
   "source": [
    "The results returned from $\\texttt{lu_factor}$ are not the same as those returned from $\\texttt{lu}$.  The underlying factorization is the same, but the information is compressed into a more efficient format.  "
   ]
  },
  {
   "cell_type": "markdown",
   "metadata": {},
   "source": [
    "### Quiz 6 (70 Points) Exercises\n",
    "\n",
    "**Exercise 1 (10 points):** Solve $ AX = B $ using $ A = LU $ and the $L$, $U$, and $B$ given below.  Compute $LUX$ to verify your answer. \n",
    "\n",
    "$$\n",
    "\\begin{equation}\n",
    "A = \\left[ \\begin{array}{ccc} 5 & 2 & 1 \\\\ 5 & 3 & 0 \\\\ -5 & -2 & -4  \\end{array}\\right] \\hspace{2cm} \n",
    "B = \\left[ \\begin{array}{c} 4 \\\\ 7 \\\\ 8  \\end{array}\\right] \\hspace{2cm} \n",
    "L = \\left[ \\begin{array}{ccc} 1 & 0 & 0 \\\\ 1 & 1 & 0  \\\\ -1 & 0 & 1  \\end{array}\\right] \\hspace{2cm} \n",
    "U = \\left[ \\begin{array}{ccc} 5 & 2 & 1 \\\\ 0 & 1 & -1  \\\\ 0 & 0 & 3  \\end{array}\\right] \n",
    "\\end{equation}\n",
    "$$"
   ]
  },
  {
   "cell_type": "code",
   "execution_count": 61,
   "metadata": {},
   "outputs": [
    {
     "name": "stdout",
     "output_type": "stream",
     "text": [
      "[4. 7. 8.]\n"
     ]
    }
   ],
   "source": [
    "## Code solution here.\n",
    "A = np.array([[5,2,1],[5,3,0],[-5,-2,-4]])\n",
    "L = np.array([[1,0,0],[1,1,0],[-1,0,1]])\n",
    "U = np.array([[5,2,1],[0,1,-1],[0,0,3]])\n",
    "#print(L)\n",
    "# LY = B : y_1 = 4, y_2 = 3, y_3 = 12\n",
    "Y = np.array([4,3,12])\n",
    "#print(U)\n",
    "# UX = Y : x_3 = 4, x_2 = 7, x_1 = -14/5\n",
    "X = np.array([-14/5,7,4])\n",
    "\n",
    "print(L@U@X)\n",
    "\n",
    "#LU = L@U\n",
    "#print(f'A:\\n{A}\\nLU:\\n{LU}')"
   ]
  },
  {
   "cell_type": "markdown",
   "metadata": {},
   "source": [
    "**Exercise 2 (10 points):** Solve $ AX = B $ using $ A = LU $ and the $L$, $U$, and $B$ given below.  Compute $LUX$ to verify your answer. \n",
    "\n",
    "$$\n",
    "\\begin{equation}\n",
    "L = \\left[ \\begin{array}{ccc} 1 & 0 & 0 \\\\ -1 & 1 & 0 \\\\ 0 & -1 & 1  \\end{array}\\right] \\hspace{2cm} \n",
    "U = \\left[ \\begin{array}{ccc} 1 & -1 & 0 \\\\ 0 & 1 & -1  \\\\ 0 & 0 & 1  \\end{array}\\right] \\hspace{2cm} \n",
    "B = \\left[ \\begin{array}{c} 2 \\\\ -3 \\\\ 4  \\end{array}\\right] \\hspace{2cm} \n",
    "Y = \\left[ \\begin{array}{c} 2 \\\\ -1 \\\\ 3 \\end{array}\\right]\n",
    "\\end{equation}\n",
    "$$"
   ]
  },
  {
   "cell_type": "code",
   "execution_count": 62,
   "metadata": {},
   "outputs": [
    {
     "name": "stdout",
     "output_type": "stream",
     "text": [
      "[ 2 -3  4]\n"
     ]
    }
   ],
   "source": [
    "## Code solution here.\n",
    "L = np.array([[1,0,0],[-1,1,0],[0,-1,1]])\n",
    "U = np.array([[1,-1,0],[0,1,-1],[0,0,1]])\n",
    "\n",
    "# LY = B : y_1 = 2, y_2 = -1, y_3 = 3\n",
    "\n",
    "# UX = Y : x_3 = 3, x_2 = 2, x_1 = 4\n",
    "\n",
    "X = np.array([4,2,3])\n",
    "\n",
    "print(L@U@X)"
   ]
  },
  {
   "cell_type": "markdown",
   "metadata": {},
   "source": [
    "**Exercise 3 (10 points):** Write a function called $\\texttt{ForwardSubstitution}$ that will solve a lower triangular system $LY=B$.  It will be helpful to go back and look at the code for $\\texttt{BackSubstitution}$."
   ]
  },
  {
   "cell_type": "code",
   "execution_count": 63,
   "metadata": {},
   "outputs": [
    {
     "name": "stdout",
     "output_type": "stream",
     "text": [
      "[ 2. -1.  3.]\n"
     ]
    }
   ],
   "source": [
    "## Code solution here.\n",
    "def ForwardSubstitution(L,B):\n",
    "    rows = L.shape[0]\n",
    "    Y = np.zeros(rows)\n",
    "    \n",
    "    for x in range(rows):\n",
    "        Y[x] = B[x]\n",
    "        \n",
    "        for y in range(x):\n",
    "            Y[x] -= L[x,y] * Y[y]\n",
    "            \n",
    "        Y[x] /= L[x,x]\n",
    "        \n",
    "    return Y\n",
    "\n",
    "print(ForwardSubstitution(L, np.array([2,-3,4])))"
   ]
  },
  {
   "cell_type": "markdown",
   "metadata": {},
   "source": [
    "**Exercise 4 (10 points):** Let $A$, $B$, and $C$ be the following matrices:\n",
    "\n",
    "  $$\n",
    "\\begin{equation}\n",
    "A = \\left[ \\begin{array}{ccc} 1 & 2 & 4 \\\\ 2 & 1 & 3 \\\\ 1 & 0 & 2  \\end{array}\\right] \\hspace{2cm} \n",
    "B = \\left[ \\begin{array}{ccc} 1 & 2 & 4 \\\\ 2 & 1 & 3  \\\\ 2 & 2 & 6  \\end{array}\\right] \\hspace{2cm} \n",
    "C = \\left[ \\begin{array}{ccc} 1 & 2 & 4 \\\\ 0 & -1 & -3  \\\\ 2 & 2 & 6  \\end{array}\\right] \n",
    "\\end{equation}\n",
    "$$\n",
    "\n",
    "$(a)$ Find an elementary matrix $E$ such that $EA = B$.  Verify with a computation.\n",
    "\n",
    "$(b)$ Find an elementary matrix $F$ such that $ FB = C$.  Verify with a computation.\n",
    "    "
   ]
  },
  {
   "cell_type": "code",
   "execution_count": 64,
   "metadata": {},
   "outputs": [
    {
     "name": "stdout",
     "output_type": "stream",
     "text": [
      "E = A^-1 * B:\n",
      "[[1. 0. 0.]\n",
      " [0. 1. 0.]\n",
      " [1. 0. 1.]]\n",
      "E * A:\n",
      "[[1. 2. 4.]\n",
      " [2. 1. 3.]\n",
      " [2. 2. 6.]]\n",
      "B:\n",
      "[[1 2 4]\n",
      " [2 1 3]\n",
      " [2 2 6]]\n"
     ]
    }
   ],
   "source": [
    "## Code solution here.\n",
    "A = np.array([[1,2,4],[2,1,3],[1,0,2]])\n",
    "B = np.array([[1,2,4],[2,1,3],[2,2,6]])\n",
    "C = np.array([[1,2,4],[0,-1,-3],[2,2,6]])\n",
    "E = B@sla.inv(A)\n",
    "# E = A^-1B\n",
    "print(f'E = A^-1 * B:\\n{E}\\nE * A:\\n{E@A}\\nB:\\n{B}')"
   ]
  },
  {
   "cell_type": "markdown",
   "metadata": {},
   "source": [
    "**Exercise 5 (10 points):** Consider the following $3\\times 3$  matrix :\n",
    "\n",
    "$$\n",
    "\\begin{equation}\n",
    "A = \\left[ \\begin{array}{rrr}  2 & 1 & 1\\\\  6 & 4 & 5  \\\\ 4 & 1 & 3 \\end{array} \\right] \n",
    "\\end{equation}\n",
    "$$\n",
    "\n",
    "$(a)$ Find **elementary matrices** $E_1$, $E_2$, and $E_3$ such that $ E_3E_2E_1A = U $ where $U$ is an upper triangular matrix.\n",
    "\n",
    "$(b)$ Find $L$ using the inverses of $E_1$, $E_2$, $E_3$, and verify that $  A = LU $."
   ]
  },
  {
   "cell_type": "code",
   "execution_count": 82,
   "metadata": {},
   "outputs": [
    {
     "name": "stdout",
     "output_type": "stream",
     "text": [
      "[[2. 1. 1.]\n",
      " [0. 1. 2.]\n",
      " [0. 0. 3.]]\n",
      "A:\n",
      " [[2 1 1]\n",
      " [6 4 5]\n",
      " [4 1 3]] \n",
      " LU:\n",
      " [[2. 1. 1.]\n",
      " [6. 4. 5.]\n",
      " [4. 1. 3.]]\n"
     ]
    }
   ],
   "source": [
    "## Code Solution here\n",
    "A = np.array([[2,1,1],[6,4,5],[4,1,3]])\n",
    "I = np.eye(3)\n",
    "\n",
    "# a)\n",
    "\n",
    "E1 = lag.RowAdd(I,0,1,-3)\n",
    "E2 = lag.RowAdd(I,0,2,-2)\n",
    "E3 = lag.RowAdd(I,1,2,1)\n",
    "U = E3@E2@E1@A\n",
    "print(U)\n",
    "\n",
    "# b)\n",
    "\n",
    "L = sla.inv(E1)@sla.inv(E2)@sla.inv(E3)\n",
    "\n",
    "print(f'A:\\n {A} \\n LU:\\n {L@U}')"
   ]
  },
  {
   "cell_type": "markdown",
   "metadata": {},
   "source": [
    "**Exercise 6 (5 points for final):** Compute the $LDU$ factorization of the following matrix and verify that $A = LDU$.\n",
    "\n",
    "$$\n",
    "\\begin{equation}\n",
    "A = \\left[ \\begin{array}{rrr}  1 & 1 & 1\\\\  3 & 5 & 6  \\\\ -2 & 2 & 7 \\end{array} \\right] \n",
    "\\end{equation}\n",
    "$$\n"
   ]
  },
  {
   "cell_type": "code",
   "execution_count": 83,
   "metadata": {},
   "outputs": [],
   "source": [
    "## Code Solution here\n",
    "# Extra Credit (5 points on Final Project)"
   ]
  },
  {
   "cell_type": "markdown",
   "metadata": {},
   "source": [
    "**Exercise 7 (10 points):** Find $P, L,$ and $U$ such that $PA = LU$.  Following the discussion in this section, $P$ should be a permutation matrix, $L$ should be a lower triangular matrix with ones long the main diagonal, and $U$ should be an upper triangular matrix.\n",
    "\n",
    "$$\n",
    "\\begin{equation}\n",
    "A = \\left[ \\begin{array}{rrr}  1 & 3 & 2\\\\  -2 & -6 & 1  \\\\ 2 & 5 & 7 \\end{array} \\right] \n",
    "\\end{equation}\n",
    "$$\n",
    "    "
   ]
  },
  {
   "cell_type": "code",
   "execution_count": 90,
   "metadata": {},
   "outputs": [
    {
     "name": "stdout",
     "output_type": "stream",
     "text": [
      "PA:\n",
      "[[ 1.  3.  2.]\n",
      " [ 2.  5.  7.]\n",
      " [-2. -6.  1.]]\n",
      "LU:\n",
      "[[ 1.  3.  2.]\n",
      " [-2. -7. -1.]\n",
      " [ 2.  6.  9.]]\n",
      "\n",
      "A:\n",
      "[[ 1  3  2]\n",
      " [-2 -6  1]\n",
      " [ 2  5  7]]\n",
      "PLU:\n",
      "[[ 1.  3.  2.]\n",
      " [ 2.  6.  9.]\n",
      " [-2. -7. -1.]]\n"
     ]
    }
   ],
   "source": [
    "## Code Solution here\n",
    "A = np.array([[1,3,2],[-2,-6,1],[2,5,7]])\n",
    "#A_copy = np.array([[1,3,2],[-2,-6,1],[2,5,7]])\n",
    "I = np.eye(3)\n",
    "\n",
    "#A = lag.RowAdd(A,0,1,2)\n",
    "L1 = lag.RowAdd(I,0,1,2)\n",
    "\n",
    "#A = lag.RowAdd(A,0,2,-2)\n",
    "L2 = lag.RowAdd(I,0,2,-2)\n",
    "\n",
    "P = lag.RowSwap(I,1,2)\n",
    "U = P@L2@L1@A\n",
    "L = sla.inv(L1)@sla.inv(L2)\n",
    "\n",
    "#print(A)\n",
    "#print(P)\n",
    "#print(U)\n",
    "#print(L)\n",
    "print(f'PA:\\n{P@A}\\nLU:\\n{L@U}\\n')\n",
    "print(f'A:\\n{A}\\nPLU:\\n{P@L@U}')"
   ]
  },
  {
   "cell_type": "markdown",
   "metadata": {},
   "source": [
    "**Exercise 8 (10 points):** Use SciPy to compute the $PLU$ factorization of a $3\\times 3$ matrix.  Replicate the results using the row operations functions in $\\texttt{laguide}$."
   ]
  },
  {
   "cell_type": "code",
   "execution_count": 100,
   "metadata": {},
   "outputs": [
    {
     "name": "stdout",
     "output_type": "stream",
     "text": [
      "[[4. 8. 1.]\n",
      " [3. 2. 3.]\n",
      " [1. 1. 1.]]\n",
      "[[4. 8. 1.]\n",
      " [3. 2. 3.]\n",
      " [1. 1. 1.]]\n"
     ]
    }
   ],
   "source": [
    "## Code Solution here\n",
    "# make any arbitrary 3 x 3 matrix (excluding identity matrix and all 1 or all 0 or any matrix with same numbers)\n",
    "from scipy.linalg import lu\n",
    "C = np.array([[4,8,1],[3,2,3],[1,1,1]])\n",
    "I = np.eye(3)\n",
    "#print(C)\n",
    "P,L,U = lu(C)\n",
    "#print(P)\n",
    "#print(L)\n",
    "#print(U)\n",
    "print(P@L@U)\n",
    "\n",
    "L1 = lag.RowAdd(I,2,1,-3)\n",
    "L2 = lag.RowAdd(I,2,0,-3)\n",
    "L3 = lag.RowAdd(I,0,2,-1/4)\n",
    "\n",
    "P = I\n",
    "U = P@L3@L2@L1@C\n",
    "L = sla.inv(L1)@sla.inv(L2)@sla.inv(L3)\n",
    "\n",
    "print(P@L@U)"
   ]
  },
  {
   "cell_type": "code",
   "execution_count": null,
   "metadata": {},
   "outputs": [],
   "source": []
  }
 ],
 "metadata": {
  "kernelspec": {
   "display_name": "Python 3 (ipykernel)",
   "language": "python",
   "name": "python3"
  },
  "language_info": {
   "codemirror_mode": {
    "name": "ipython",
    "version": 3
   },
   "file_extension": ".py",
   "mimetype": "text/x-python",
   "name": "python",
   "nbconvert_exporter": "python",
   "pygments_lexer": "ipython3",
   "version": "3.11.5"
  }
 },
 "nbformat": 4,
 "nbformat_minor": 4
}
