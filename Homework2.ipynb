{
 "cells": [
  {
   "cell_type": "code",
   "execution_count": 1,
   "id": "32074c10",
   "metadata": {},
   "outputs": [],
   "source": [
    "import numpy as np"
   ]
  },
  {
   "cell_type": "code",
   "execution_count": 2,
   "id": "4ff58108",
   "metadata": {},
   "outputs": [],
   "source": [
    "def n_fpi(n, p_0, func):\n",
    "    \n",
    "    '''\n",
    "    This function performs the fixed point formula on a specified function n number of times.\n",
    "    \n",
    "    Params:\n",
    "    _________________________________________________\n",
    "    \n",
    "    n: number of iterations of fixed point to perform\n",
    "    p_0: initial guess\n",
    "    func: funciton to perform FPI on\n",
    "    _________________________________________________\n",
    "    \n",
    "    Returns:\n",
    "    _________________________________________________\n",
    "    \n",
    "    p_n: approximation after n iterations\n",
    "    '''\n",
    "    \n",
    "    def f(x):\n",
    "        f = eval(func)\n",
    "        return f\n",
    "    \n",
    "    p_n = p_0\n",
    "    \n",
    "    for x in range(0, n):\n",
    "        p_n = f(p_n)\n",
    "        \n",
    "    return p_n"
   ]
  },
  {
   "cell_type": "code",
   "execution_count": 3,
   "id": "32b7efe9",
   "metadata": {},
   "outputs": [
    {
     "name": "stdout",
     "output_type": "stream",
     "text": [
      "Approximation for g1(x): 1.0\n",
      "Approximation for g2(x): 0.9875064291508866\n",
      "Approximation for g3(x): 0.9875064291508866\n",
      "Approximation for g4(x): 1.124123029704334\n"
     ]
    }
   ],
   "source": [
    "g1 = n_fpi(4, 1, '(3 * x - 2 * x ** 2) ** (1/4)')\n",
    "print(f'Approximation for g1(x): {g1}')\n",
    "\n",
    "g2 = n_fpi(4, 1, '((x + 3 - x ** 4) / 2) ** (1/2)')\n",
    "print(f'Approximation for g2(x): {g2}')\n",
    "\n",
    "g3 = n_fpi(4, 1, '((x + 3) / (x ** 2 + 2)) ** (1/2)')\n",
    "print(f'Approximation for g3(x): {g2}')\n",
    "\n",
    "g4 = n_fpi(4, 1, '(3 * x ** 4 + 2 * x ** 2 + 3) / (4 * x ** 3 + 4 * x - 1)')\n",
    "print(f'Approximation for g4(x): {g4}')"
   ]
  },
  {
   "cell_type": "code",
   "execution_count": 7,
   "id": "af3a388e",
   "metadata": {},
   "outputs": [],
   "source": [
    "def error_fpi(p_0, lower_bound, upper_bound, error_accept, func):\n",
    "    '''\n",
    "    This function finds the best approximation for the function func\n",
    "    within an acceptable error error_accept using fixed point iteration.\n",
    "    \n",
    "    Params:\n",
    "    _______________________________________________\n",
    "    \n",
    "    p_0: initial guess\n",
    "    upper_bound: upper bound on interval\n",
    "    lower_bound: lower bound on interval\n",
    "    error_accept: error cutoff to exit the function\n",
    "    func: function to be approximated\n",
    "    _______________________________________________\n",
    "    \n",
    "    Returns:\n",
    "    _______________________________________________\n",
    "    \n",
    "    p_e: approximation within acceptable error\n",
    "    '''\n",
    "    \n",
    "    def f(x):\n",
    "        f = eval(func)\n",
    "        return f\n",
    "    \n",
    "    error = abs(upper_bound - lower_bound)\n",
    "    p_e = p_0\n",
    "    cnt = 0\n",
    "    \n",
    "    while error > error_accept:\n",
    "        p_e = f(p_e)\n",
    "        \n",
    "        if p_e < lower_bound or p_e > upper_bound:\n",
    "            print(f'Approximation p_e = {p_e} diverged outside of interval [{lower_bound},{upper_bound}].')\n",
    "            return \n",
    "        elif p_e > lower_bound:\n",
    "            lower_bound = p_e\n",
    "            error = abs(upper_bound - lower_bound)\n",
    "        else:\n",
    "            upper_bound = p_e\n",
    "            error = abs(upper_bound - lower_bound)\n",
    "            \n",
    "        cnt += 1\n",
    "            \n",
    "    print(f'cnt: {cnt}')\n",
    "    return p_e"
   ]
  },
  {
   "cell_type": "code",
   "execution_count": 8,
   "id": "df4097b3",
   "metadata": {},
   "outputs": [
    {
     "name": "stdout",
     "output_type": "stream",
     "text": [
      "cnt: 41\n",
      "Approximation for f(x) at p_n: 1.9471229667070131\n",
      "cnt: 24\n",
      "Approximation 2 for f(x) at p_n: 1.324717957244746\n"
     ]
    }
   ],
   "source": [
    "pn = error_fpi(1, 1, 2, 0.01, '(3 * x ** 2 + 3) ** (1/4)')\n",
    "print(f'Approximation for f(x) at p_n: {pn}')\n",
    "\n",
    "pn_2 = error_fpi(1, 1, 2, 0.02, '(x + 1) ** (1/3)')\n",
    "print(f'Approximation 2 for f(x) at p_n: {pn_2}')"
   ]
  },
  {
   "cell_type": "code",
   "execution_count": 13,
   "id": "bb71b287",
   "metadata": {},
   "outputs": [
    {
     "name": "stdout",
     "output_type": "stream",
     "text": [
      "Approximation p_e = 0.6125473265360659 diverged outside of interval [0.7071067811865476,1].\n",
      "Approximation for question 10: None\n"
     ]
    }
   ],
   "source": [
    "q10 = error_fpi(0.5, 0.33, 1, 0.0001, '2 ** (-1 * x)')\n",
    "print(f'Approximation for question 10: {q10}')"
   ]
  },
  {
   "cell_type": "code",
   "execution_count": null,
   "id": "f617659f",
   "metadata": {},
   "outputs": [],
   "source": []
  },
  {
   "cell_type": "code",
   "execution_count": null,
   "id": "96fc0190",
   "metadata": {},
   "outputs": [],
   "source": []
  }
 ],
 "metadata": {
  "kernelspec": {
   "display_name": "Python 3 (ipykernel)",
   "language": "python",
   "name": "python3"
  },
  "language_info": {
   "codemirror_mode": {
    "name": "ipython",
    "version": 3
   },
   "file_extension": ".py",
   "mimetype": "text/x-python",
   "name": "python",
   "nbconvert_exporter": "python",
   "pygments_lexer": "ipython3",
   "version": "3.11.5"
  }
 },
 "nbformat": 4,
 "nbformat_minor": 5
}
