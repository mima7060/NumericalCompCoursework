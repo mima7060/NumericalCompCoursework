{
 "cells": [
  {
   "cell_type": "code",
   "execution_count": 4,
   "id": "20ad71fa",
   "metadata": {},
   "outputs": [],
   "source": [
    "import numpy as np"
   ]
  },
  {
   "cell_type": "code",
   "execution_count": 28,
   "id": "c64bc3db",
   "metadata": {},
   "outputs": [],
   "source": [
    "def simp_double(a_1,b_1,a_2,b_2,n,m, func):\n",
    "    \n",
    "    def c(x):\n",
    "        return eval(a_2)\n",
    "    \n",
    "    def d(x):\n",
    "        return eval(b_2)\n",
    "    \n",
    "    def f(x,y):\n",
    "        return eval(func,{'x':x,'y':y, 'np':np})\n",
    "    \n",
    "    h = (b_1 - a_1) / n\n",
    "    \n",
    "    j_1 = 0\n",
    "    j_2 = 0\n",
    "    j_3 = 0\n",
    "    \n",
    "    for i in range(0,n+1):\n",
    "        x = a_1 + h * i\n",
    "        hx = (d(x) - c(x)) / m\n",
    "        k_1 = f(x,c(x)) + f(x,d(x))\n",
    "        k_2 = 0\n",
    "        k_3 = 0\n",
    "        \n",
    "        for j in range(1,m):\n",
    "            y = c(x) + j * hx\n",
    "            q = f(x,y)\n",
    "            \n",
    "            if j % 2 == 0:\n",
    "                k_2 += q\n",
    "            else:\n",
    "                k_3 += q\n",
    "            \n",
    "        l = (k_1 + 2*k_2 + 4*k_3) * hx / 3\n",
    "        \n",
    "        if (i == 0) or (i == n):\n",
    "            j_1 += l\n",
    "        elif i % 2 == 0:\n",
    "            j_2 += l\n",
    "        else:\n",
    "            j_3 += l\n",
    "            \n",
    "    j = h * (j_1 + 2*j_2 + 4*j_3) / 3\n",
    "    return j"
   ]
  },
  {
   "cell_type": "code",
   "execution_count": 29,
   "id": "fbb038fd",
   "metadata": {},
   "outputs": [
    {
     "name": "stdout",
     "output_type": "stream",
     "text": [
      "1a: 0.3115733333333332, 1b: 0.2552526215425403, 1c: 16.50864062500002, 1d: 1.4766841026926059\n"
     ]
    }
   ],
   "source": [
    "prob1_a = simp_double(2.1,2.5,'1.2','1.4',4,4,'x*y**2')\n",
    "prob1_b = simp_double(0,0.5,'0','0.5',4,4,'np.exp(y - x)')\n",
    "prob1_c = simp_double(2,2.2,'x','2*x',4,4,'x**2 + y**3')\n",
    "prob1_d = simp_double(1,1.5,'0','x',4,4,'x**2 + np.sqrt(y)')\n",
    "\n",
    "print(f'1a: {prob1_a}, 1b: {prob1_b}, 1c: {prob1_c}, 1d: {prob1_d}')"
   ]
  },
  {
   "cell_type": "code",
   "execution_count": null,
   "id": "1689e484",
   "metadata": {},
   "outputs": [],
   "source": []
  }
 ],
 "metadata": {
  "kernelspec": {
   "display_name": "Python 3 (ipykernel)",
   "language": "python",
   "name": "python3"
  },
  "language_info": {
   "codemirror_mode": {
    "name": "ipython",
    "version": 3
   },
   "file_extension": ".py",
   "mimetype": "text/x-python",
   "name": "python",
   "nbconvert_exporter": "python",
   "pygments_lexer": "ipython3",
   "version": "3.11.5"
  }
 },
 "nbformat": 4,
 "nbformat_minor": 5
}
